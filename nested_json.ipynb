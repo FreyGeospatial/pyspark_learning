{
 "cells": [
  {
   "cell_type": "code",
   "execution_count": 1,
   "metadata": {},
   "outputs": [
    {
     "name": "stderr",
     "output_type": "stream",
     "text": [
      "Setting default log level to \"WARN\".\n",
      "To adjust logging level use sc.setLogLevel(newLevel). For SparkR, use setLogLevel(newLevel).\n",
      "24/08/08 15:31:17 WARN NativeCodeLoader: Unable to load native-hadoop library for your platform... using builtin-java classes where applicable\n"
     ]
    },
    {
     "name": "stdout",
     "output_type": "stream",
     "text": [
      "+---+---+----------+\n",
      "| k1| k2|        k3|\n",
      "+---+---+----------+\n",
      "|v99|v98|{vn1, vn2}|\n",
      "| v1| v2|      NULL|\n",
      "+---+---+----------+\n",
      "\n"
     ]
    }
   ],
   "source": [
    "from pyspark.sql import SparkSession\n",
    "from pyspark.sql.functions import col, explode, split, lit\n",
    "# import pandas as pd\n",
    "\n",
    "spark = SparkSession.builder.appName(\"Data Processing\").getOrCreate()\n",
    "\n",
    "\n",
    "df = spark.read.json(\"data/*.json\")\n",
    "df.show()"
   ]
  },
  {
   "cell_type": "code",
   "execution_count": 2,
   "metadata": {},
   "outputs": [],
   "source": [
    "from pyspark.sql.utils import AnalysisException\n",
    "# from pyspark.sql import Row\n",
    "\n",
    "\n",
    "def has_column(df, column):\n",
    "    try:\n",
    "        df[column]\n",
    "        return True\n",
    "    except AnalysisException:\n",
    "        return False"
   ]
  },
  {
   "cell_type": "code",
   "execution_count": 3,
   "metadata": {},
   "outputs": [
    {
     "data": {
      "text/plain": [
       "pyspark.sql.dataframe.DataFrame"
      ]
     },
     "execution_count": 3,
     "metadata": {},
     "output_type": "execute_result"
    }
   ],
   "source": [
    "type(df)"
   ]
  },
  {
   "cell_type": "code",
   "execution_count": 4,
   "metadata": {},
   "outputs": [
    {
     "name": "stdout",
     "output_type": "stream",
     "text": [
      "+---+---+----------+----+----+\n",
      "| k1| k2|        k3| kn1| lit|\n",
      "+---+---+----------+----+----+\n",
      "|v99|v98|{vn1, vn2}| vn1|NULL|\n",
      "| v1| v2|      NULL|NULL|NULL|\n",
      "+---+---+----------+----+----+\n",
      "\n"
     ]
    }
   ],
   "source": [
    "df2=df.transform(lambda x: x.withColumn(\"kn1\", col(\"k3.kn1\")) if has_column(x, \"k3.kn1\") else x.withColumn(\"kn1\", lit(None).cast(\"string\"))).transform(lambda x: x.withColumn(\"kn3\", col(\"k3.kn3\")) if has_column(x, \"k3.kn3\") else x.withColumn(\"lit\", lit(None).cast(\"string\")))\n",
    "df2.show()"
   ]
  }
 ],
 "metadata": {
  "kernelspec": {
   "display_name": "base",
   "language": "python",
   "name": "python3"
  },
  "language_info": {
   "codemirror_mode": {
    "name": "ipython",
    "version": 3
   },
   "file_extension": ".py",
   "mimetype": "text/x-python",
   "name": "python",
   "nbconvert_exporter": "python",
   "pygments_lexer": "ipython3",
   "version": "3.12.0"
  }
 },
 "nbformat": 4,
 "nbformat_minor": 2
}
